{
  "nbformat": 4,
  "nbformat_minor": 0,
  "metadata": {
    "colab": {
      "name": "TransformerのNLPの活用へ_20220318_v0.1.ipynb",
      "provenance": [],
      "collapsed_sections": [
        "Gf8RpNuzB2qH",
        "xAsEpSCYP4j6",
        "5Lv0v-FZB2-r",
        "cRWIw2EPSP_E",
        "s5VJpgUhYypY"
      ],
      "toc_visible": true,
      "authorship_tag": "ABX9TyNa0NNIOfVBMLnLnCPBZsR+",
      "include_colab_link": true
    },
    "kernelspec": {
      "name": "python3",
      "display_name": "Python 3"
    },
    "language_info": {
      "name": "python"
    }
  },
  "cells": [
    {
      "cell_type": "markdown",
      "metadata": {
        "id": "view-in-github",
        "colab_type": "text"
      },
      "source": [
        "<a href=\"https://colab.research.google.com/github/otanet/hannari_NLP_hands_on_2022/blob/main/Transformer%E3%81%AENLP%E3%81%AE%E6%B4%BB%E7%94%A8%E3%81%B8_20220318_v0_1.ipynb\" target=\"_parent\"><img src=\"https://colab.research.google.com/assets/colab-badge.svg\" alt=\"Open In Colab\"/></a>"
      ]
    },
    {
      "cell_type": "markdown",
      "source": [
        "## TransformerのNLPの活用  \n",
        "GiNZAのライブラリを用いると、以下の3つの言語処理が可能です。  \n",
        "![1.GiNZA3.PNG](data:image/png;base64,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)\n",
        "\n",
        "これ以降は、事前学習モデルを用いて、主に以下の5つの大規模データセットを用いた言語処理が可能となります。\n",
        "いずれも、Haggingface社の公開しているTransformerの事前学習モデルに伴うライブラリを使用します。  \n",
        "![2.Huggingface_5.PNG](data:image/png;base64,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)\n",
        "\n",
        "\n"
      ],
      "metadata": {
        "id": "Gf8RpNuzB2qH"
      }
    },
    {
      "cell_type": "markdown",
      "source": [
        "## (個人的な感じ)\n",
        "今回、BERTの活用に際し、NLTKをはじめとした自然言語処理のライブラリは英語が対象です。spaCyやProdigyなどいくつかあります。\n",
        "\n",
        "しかし、日本語対応にしたものとなると、GiNZAとHuggingfaceとで動かすなど、選択肢は少なくなります。\n",
        "\n",
        "当初はBERTの実装を予定していましたが、まずは、既存のものを動かし体感して、それでも手の届かない部分は、改めて、取り組むように、順を追いたいと思っています。\n",
        "\n",
        "今回は大枠を知ることを第一に考えています。"
      ],
      "metadata": {
        "id": "xAsEpSCYP4j6"
      }
    },
    {
      "cell_type": "markdown",
      "source": [
        "## まずは、GiNZAをインストールして、基本的な言語処理を体感しましょう！\n"
      ],
      "metadata": {
        "id": "5Lv0v-FZB2-r"
      }
    },
    {
      "cell_type": "markdown",
      "source": [
        "## 形態素解析とは\n",
        "文章を形態素という言葉の最小単位に分割する処理のこと。\n",
        "併せて、それぞれの品詞や見出し語を判別します。\n",
        "\n",
        "※言葉の最小単位を、トークンと言い、トークン化とも言います。\n",
        "→形態素解析=トークン化\n",
        "\n",
        "・トークン化：文を言葉の最小単位に分割する処理のこと\n",
        "・品詞タグ付け：トークン化の品詞を判別しそれをタグ付けする処理のこと\n",
        "・レンマ化：トークンを辞書の見出し語に変換する処理のこと"
      ],
      "metadata": {
        "id": "cRWIw2EPSP_E"
      }
    },
    {
      "cell_type": "code",
      "source": [
        "# GiNZAのインストール\n",
        "!pip install ginza==4.0.5\n",
        "\n",
        "# メニュー「ランタイム → ランタイムを再起動」で「Google Colab」を再起動"
      ],
      "metadata": {
        "id": "_2k3QCcgB3IV"
      },
      "execution_count": null,
      "outputs": []
    },
    {
      "cell_type": "code",
      "source": [
        "# トークン化の例\n",
        "import spacy\n",
        "\n",
        "nlp = spacy.load('ja_ginza')\n",
        "doc = nlp('グーグルはモトローラを買収した。')\n",
        "\n",
        "for token in doc:\n",
        "    print(token)"
      ],
      "metadata": {
        "id": "exyzRp5QB3Ks"
      },
      "execution_count": null,
      "outputs": []
    },
    {
      "cell_type": "markdown",
      "source": [
        "## トークンの分割単位とGiNZAの設定\n",
        "トークンは言葉の最小単位ですが、決まった定義はなく、その時々で決めます。\n",
        "GiNZAには3つの段階があります。  \n",
        "\n",
        "例）国家公務員  \n",
        "  \n",
        "A:国家/公務/員  \n",
        "B:国家/公務員  \n",
        "C:国家公務員  \n",
        "  \n",
        "※ ginza.set_split_model()を使用します。  "
      ],
      "metadata": {
        "id": "gG-ZmrvoOXIJ"
      }
    },
    {
      "cell_type": "markdown",
      "source": [
        "例）国家公務員  \n",
        "A:国家/公務/員  "
      ],
      "metadata": {
        "id": "RrbT094QOWmX"
      }
    },
    {
      "cell_type": "code",
      "source": [
        "import spacy\n",
        "import ginza\n",
        "nlp = spacy.load('ja_ginza')\n",
        "ginza.set_split_mode(nlp, 'A') # 分割単位Aを指定\n",
        "doc = nlp('私は霞が関の国家公務員です')\n",
        "\n",
        "for token in doc:\n",
        "    print(token)"
      ],
      "metadata": {
        "id": "hQuX6CUrB3Rj"
      },
      "execution_count": null,
      "outputs": []
    },
    {
      "cell_type": "markdown",
      "source": [
        "例）国家公務員  \n",
        "B:国家/公務員  "
      ],
      "metadata": {
        "id": "vicVj9lKOV4Q"
      }
    },
    {
      "cell_type": "code",
      "source": [
        "import spacy\n",
        "import ginza\n",
        "nlp = spacy.load('ja_ginza')\n",
        "ginza.set_split_mode(nlp, 'B') # 分割単位Bを設定\n",
        "doc = nlp('私は霞が関の国家公務員です')\n",
        "\n",
        "for token in doc:\n",
        "    print(token)"
      ],
      "metadata": {
        "id": "Pc4-xAQaB3Ty"
      },
      "execution_count": null,
      "outputs": []
    },
    {
      "cell_type": "markdown",
      "source": [
        "例）国家公務員  \n",
        "C:国家公務員  "
      ],
      "metadata": {
        "id": "VMwonEWTOVWW"
      }
    },
    {
      "cell_type": "code",
      "source": [
        "import spacy\n",
        "import ginza\n",
        "nlp = spacy.load('ja_ginza')\n",
        "ginza.set_split_mode(nlp, 'C') # 分割単位C\n",
        "doc = nlp('私は霞が関の国家公務員です')\n",
        "\n",
        "for token in doc:\n",
        "    print(token)"
      ],
      "metadata": {
        "id": "VVrNBkE6OMP8"
      },
      "execution_count": null,
      "outputs": []
    },
    {
      "cell_type": "markdown",
      "source": [
        "## 品詞タグ付け\n",
        "品詞タグ付けには、SudachiPyによる品詞タグ付けと、Universal Dependenciesの品詞タグ付けとがあります。  \n",
        "\n",
        "※特徴  \n",
        "SudachiPyは日本語に適しています。  \n",
        "Universal Dependenciesは多言語の横断的な学習に適しています。  "
      ],
      "metadata": {
        "id": "PymHft4LOU01"
      }
    },
    {
      "cell_type": "code",
      "source": [
        "import spacy\n",
        "nlp = spacy.load('ja_ginza')\n",
        "doc = nlp('グーグルはモトローラを買収した。')\n",
        "\n",
        "for token in doc:\n",
        "    print(\n",
        "        token.text+', '+ # テキスト\n",
        "        token.tag_+', '+ # SudachiPyの品詞タグ\n",
        "        token.pos_) # Universal Dependenciesの品詞タグ"
      ],
      "metadata": {
        "id": "YFCKw_bkB3WC"
      },
      "execution_count": null,
      "outputs": []
    },
    {
      "cell_type": "markdown",
      "source": [
        "## レンマ化  \n",
        "トークンを辞書の見出し語に変換する処理のことです。 \n",
        "辞書の見出し語にそろえると、異なる表記でも同じ単語であることを判別できるようになります。  \n",
        "  \n",
        "例）\n",
        "行か(ない)→行く  \n",
        "行き(ます)→行く  \n",
        "行く(。)→行く  \n",
        "行く時→→行く  \n",
        "行け(ば)→行く  \n",
        "行こ(う)→行く  \n",
        "  \n",
        "※五段活用の一部のイメージです。  "
      ],
      "metadata": {
        "id": "KP4mItVXOTuO"
      }
    },
    {
      "cell_type": "code",
      "source": [
        "import spacy\n",
        "nlp = spacy.load('ja_ginza')\n",
        "doc = nlp('グーグルはモトローラを買収した。')\n",
        "\n",
        "for token in doc:\n",
        "    print(\n",
        "        token.text+', '+ # テキスト\n",
        "        token.lemma_) # レンマ化 "
      ],
      "metadata": {
        "id": "wKmIr3FKB3YT"
      },
      "execution_count": null,
      "outputs": []
    },
    {
      "cell_type": "markdown",
      "source": [
        "## 文境界解析  \n",
        "複数の文章を文に解析する処理のことです。  \n",
        "日本語には、句点(。)がありますが、「?」や「!」で区切られている場合もあります。  \n",
        "  \n",
        "例）『彼は「面白い！」とつぶやいた。』  \n",
        "→会話文が内包されているケースもあり、こういう場合は処理が難しくなります。  "
      ],
      "metadata": {
        "id": "mzt6FxPyXNCZ"
      }
    },
    {
      "cell_type": "code",
      "source": [
        "import spacy\n",
        "nlp = spacy.load('ja_ginza')\n",
        "doc = nlp('グーグルはモトローラを買収した。')\n",
        "\n",
        "# 文境界解析\n",
        "for span in doc.sents:\n",
        "    print(span)"
      ],
      "metadata": {
        "id": "LnojvL6lB3al"
      },
      "execution_count": null,
      "outputs": []
    },
    {
      "cell_type": "code",
      "source": [
        "#spanをfor文で回してトークンクラスを取得する\n",
        "import spacy\n",
        "nlp = spacy.load('ja_ginza')\n",
        "doc = nlp('グーグルはモトローラを買収した。')\n",
        "\n",
        "# 文境界解析+トークン化\n",
        "for span in doc.sents:\n",
        "    for token in span:\n",
        "        print(token)"
      ],
      "metadata": {
        "id": "qxAtrKxKB3cu"
      },
      "execution_count": null,
      "outputs": []
    },
    {
      "cell_type": "markdown",
      "source": [
        "## 文節分割\n",
        "小学校か中学校で、「ね」で区切るのが文節分割に当たります。\n",
        "日本語は、この文節で分割した方が解析しやすくなる場合もあります。"
      ],
      "metadata": {
        "id": "srCQ9KxNYSeH"
      }
    },
    {
      "cell_type": "code",
      "source": [
        "import spacy\n",
        "import ginza\n",
        "nlp = spacy.load('ja_ginza')\n",
        "doc = nlp('グーグルはモトローラを買収した。')\n",
        "\n",
        "# 文節分割\n",
        "for sent in doc.sents:\n",
        "    for span in ginza.bunsetu_spans(sent):\n",
        "        print(span)"
      ],
      "metadata": {
        "id": "grZUlH5mB3eZ"
      },
      "execution_count": null,
      "outputs": []
    },
    {
      "cell_type": "markdown",
      "source": [
        "### 文節分割：文節分割+トークン化の場合  \n",
        "こちらの方が、しっくりくる感じがします。  \n"
      ],
      "metadata": {
        "id": "s5VJpgUhYypY"
      }
    },
    {
      "cell_type": "code",
      "source": [
        "import spacy\n",
        "import ginza\n",
        "nlp = spacy.load('ja_ginza')\n",
        "doc = nlp('銀座でランチをご一緒しましょう。今度の日曜日はどうですか。')\n",
        "\n",
        "# 文節分割+トークン化\n",
        "for sent in doc.sents:\n",
        "    for span in ginza.bunsetu_spans(sent):\n",
        "        for token in span:\n",
        "            print(token)"
      ],
      "metadata": {
        "id": "jXuceAo2B3ga"
      },
      "execution_count": null,
      "outputs": []
    },
    {
      "cell_type": "markdown",
      "source": [
        "## 未知語の発見\n",
        "## Sudachiのユーザー辞書にcsv形式で登録して、対応します。\n"
      ],
      "metadata": {
        "id": "syK2HO5HY_Ul"
      }
    },
    {
      "cell_type": "code",
      "source": [
        "import spacy\n",
        "nlp = spacy.load('ja_ginza')\n",
        "doc = nlp('グーグルに買収されたモトローラ')\n",
        "\n",
        "#「となりのトトロ」が標準辞書で未対応であることを確認。\n",
        "for token in doc:\n",
        "    print(token)"
      ],
      "metadata": {
        "id": "PJ4LN8gQB3ir"
      },
      "execution_count": null,
      "outputs": []
    },
    {
      "cell_type": "markdown",
      "source": [
        "## 係り受け解析(構文解析)とは、\n",
        "文章を文節や単語に分割した後で、係り受け関係(どの語がどの語を修飾しているか)を識別する処理のことです。  \n",
        "言語学でいう構文解析に当たります。   \n",
        "\n",
        "※1 ディープラーニングが出てくる前はCaboChaやKakashiなどがそのツールとしてありました。  \n",
        "※2 今では、SpaCyなど多言語対応の係り受け解析器が使われています。  \n"
      ],
      "metadata": {
        "id": "eeNNfuqMO4Uw"
      }
    },
    {
      "cell_type": "code",
      "source": [
        "# GiNZAのインストール\n",
        "!pip install ginza==4.0.5\n",
        "\n",
        "# メニュー「ランタイム → ランタイムを再起動」で「Google Colab」を再起動"
      ],
      "metadata": {
        "id": "vyrHaOr0B3k6"
      },
      "execution_count": null,
      "outputs": []
    },
    {
      "cell_type": "code",
      "source": [
        "import spacy\n",
        "import ginza\n",
        "nlp = spacy.load('ja_ginza')\n",
        "doc = nlp('グーグルはモトローラを買収した。')\n",
        "\n",
        "# 文節の係り受け解析\n",
        "for span in ginza.bunsetu_spans(doc): #ginza.bunsetu_spansをfor文で回して文を分割した文節を取得する\n",
        "    for token in span.lefts: #span.leftsでその文節にかかっているトークンを取得する\n",
        "        print(str(ginza.bunsetu_span(token))+' → '+str(span)) #ginza.bunsetu_spanで、そのトークンが含まれている文節を取得する"
      ],
      "metadata": {
        "id": "Lo96IeVwB3mr"
      },
      "execution_count": null,
      "outputs": []
    },
    {
      "cell_type": "markdown",
      "source": [
        "## 主辞(文節で重要な単語)を抽出\n",
        "ginza.bunsetu_phrase_spans()を用いる。"
      ],
      "metadata": {
        "id": "UHW64jA7cekq"
      }
    },
    {
      "cell_type": "code",
      "source": [
        "import spacy\n",
        "import ginza\n",
        "nlp = spacy.load('ja_ginza')\n",
        "doc = nlp('グーグルはモトローラを買収した。')\n",
        "\n",
        "# 文節の係り受け解析\n",
        "for span in ginza.bunsetu_phrase_spans(doc): #ginza.bunsetu_phrase_spans()を用いて主辞を取得する\n",
        "    for token in span.lefts:\n",
        "        print(str(ginza.bunsetu_phrase_span(token))+' → '+str(span))"
      ],
      "metadata": {
        "id": "4lmMERV1B3o-"
      },
      "execution_count": null,
      "outputs": []
    },
    {
      "cell_type": "markdown",
      "source": [
        "### コラム 日本語と英語との係り受け構文結果の違い\n",
        "日本語の文節係り受けは非交差的で、単方向になります。\n",
        "一方、英語は逆のイメージになります。\n"
      ],
      "metadata": {
        "id": "4yswvpN3dDTt"
      }
    },
    {
      "cell_type": "markdown",
      "source": [
        "## 単語の係り受け解析  \n",
        "単語の係り受け関係を木構造で表示します。  \n",
        "この木は閉路のないグラフを指します。  \n",
        "各単語は木の頂点に対応して、1つの親に対して、複数の子を持つことになります。  \n",
        "「親→子」"
      ],
      "metadata": {
        "id": "JiH9rispdmpc"
      }
    },
    {
      "cell_type": "code",
      "source": [
        "import spacy\n",
        "from spacy import displacy\n",
        "nlp = spacy.load('ja_ginza')\n",
        "doc = nlp('グーグルはモトローラを買収した。')\n",
        "\n",
        "# 単語の係り受け解析\n",
        "for token in doc:\n",
        "    print(token.text+' ← '+token.head.text+', '+token.dep_)\n",
        "\n",
        "# グラフ表示\n",
        "displacy.render(doc, style='dep', jupyter=True)"
      ],
      "metadata": {
        "id": "LxyZwuCPB3rE"
      },
      "execution_count": null,
      "outputs": []
    },
    {
      "cell_type": "code",
      "source": [
        "# シンプルなグラフ表示\n",
        "displacy.render(doc, style='dep', jupyter=True, options={'compact':True, 'distance': 90})"
      ],
      "metadata": {
        "id": "Uf153XXcB3s7"
      },
      "execution_count": null,
      "outputs": []
    },
    {
      "cell_type": "markdown",
      "source": [
        "## Huggingface Transformerの活用\n",
        "\n",
        "Haggingface社の公開しているTransformerの事前学習モデルに伴うライブラリを使用します。\n",
        "Huggingfaceのライブラリを用いると、主に4つのタスクを行うことができます。\n",
        "\n",
        "![2.Huggingface_5.PNG](data:image/png;base64,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)"
      ],
      "metadata": {
        "id": "Ev6ZlrR3Pz7b"
      }
    },
    {
      "cell_type": "code",
      "source": [
        "# pipからのHuggingface Transformersのインストール\n",
        "!pip install transformers[ja]==4.4.2"
      ],
      "metadata": {
        "id": "YMmv59CiB3vM"
      },
      "execution_count": null,
      "outputs": []
    },
    {
      "cell_type": "code",
      "source": [
        "from transformers import pipeline\n",
        "\n",
        "# テキスト分類のパイプラインの準備\n",
        "nlp = pipeline('sentiment-analysis')\n",
        "\n",
        "# テキスト\n",
        "text = 'This movie was very funny.'\n",
        "\n",
        "# 推論\n",
        "print(nlp(text))"
      ],
      "metadata": {
        "id": "jlMErXGsB3xq"
      },
      "execution_count": null,
      "outputs": []
    },
    {
      "cell_type": "code",
      "source": [
        "from transformers import pipeline\n",
        "\n",
        "# 質問応答のパイプラインの準備\n",
        "nlp = pipeline('question-answering')\n",
        "\n",
        "# コンテキスト\n",
        "context = 'Huggingface Transformers is a deep learning framework provided by Huggingface that specializes in natural language processing. It supports both TensorFlow and PyTorch. You can use deep learning to solve natural language processing tasks such as text classification, question answering, and summary.'\n",
        "\n",
        "# 質問\n",
        "question = 'What is a natural language processing task?'\n",
        "\n",
        "# 推論\n",
        "print(nlp(question=question, context=context))"
      ],
      "metadata": {
        "id": "0VK6_X6rB4JN"
      },
      "execution_count": null,
      "outputs": []
    },
    {
      "cell_type": "code",
      "source": [
        "from transformers import pipeline\n",
        "\n",
        "# 要約のパイプラインの準備\n",
        "summarizer = pipeline('summarization')\n",
        "\n",
        "# テキスト\n",
        "text = 'Huggingface Transformers is a deep learning framework provided by Huggingface that specializes in natural language processing. It supports both TensorFlow and PyTorch. You can use deep learning to solve natural language processing tasks such as text classification, question answering, and summary.'\n",
        "\n",
        "# 推論\n",
        "print(summarizer(text, max_length=20, min_length=10))"
      ],
      "metadata": {
        "id": "VViHRcffB4PI"
      },
      "execution_count": null,
      "outputs": []
    },
    {
      "cell_type": "code",
      "source": [
        "from transformers import pipeline\n",
        "\n",
        "# テキスト生成のパイプラインの準備 (1)\n",
        "text_generator = pipeline('text-generation')\n",
        "\n",
        "# テキスト\n",
        "text = 'Once upon a time there was an old man and an old woman.'\n",
        "\n",
        "# 推論 (2)\n",
        "print(text_generator(text, max_length=100, min_length=50))"
      ],
      "metadata": {
        "id": "gQ2ZGAVyB4Qh"
      },
      "execution_count": null,
      "outputs": []
    },
    {
      "cell_type": "code",
      "source": [
        "from transformers import pipeline\n",
        "\n",
        "# MLMのパイプラインの準備\n",
        "nlp = pipeline('fill-mask')\n",
        "\n",
        "# 推論\n",
        "print(nlp(f'Once upon a time there was an old man and an old {nlp.tokenizer.mask_token}.'))"
      ],
      "metadata": {
        "id": "UM9MBmOHB4Re"
      },
      "execution_count": null,
      "outputs": []
    },
    {
      "cell_type": "code",
      "source": [
        "from transformers import pipeline\n",
        "\n",
        "# 固有表現抽出のパイプラインの準備\n",
        "nlp = pipeline('ner')\n",
        "\n",
        "# テキスト\n",
        "text = 'Hansel and Gretel go looking for food.'\n",
        "\n",
        "# 推論\n",
        "print(nlp(text))"
      ],
      "metadata": {
        "id": "Cm7xeo1nB4Sa"
      },
      "execution_count": null,
      "outputs": []
    },
    {
      "cell_type": "code",
      "source": [
        "from transformers import pipeline\n",
        "\n",
        "# 翻訳のパイプラインの準備\n",
        "nlp = pipeline('translation_en_to_de')\n",
        "\n",
        "# テキスト\n",
        "text = 'Hansel and Gretel go looking for food.'\n",
        "\n",
        "# 推論\n",
        "print(nlp(text, max_length=40, min_length=1))"
      ],
      "metadata": {
        "id": "IRmMHwlwB4TZ"
      },
      "execution_count": null,
      "outputs": []
    },
    {
      "cell_type": "markdown",
      "source": [
        "## まとめと考察  \n",
        "GiNZAのインストール  \n",
        "1.形態素解析  \n",
        "2.トークンの分割単位  \n",
        "3.品詞タグ付け  \n",
        "4.レンマ化  \n",
        "5.文境界解析  \n",
        "6.文節分割  \n",
        "7.未知語とその対応  \n",
        "8.係り受け解析  \n",
        "9.主辞(文節で重要な単語)の抽出  \n",
        "10.単語の係り受け解析  \n",
        "11.Huggingface Transformerの活用に向けて  \n",
        "\n",
        "## 考察：  \n",
        "係り受け解析の結果だけでも、英語と日本語の相違が見受けられました。  \n",
        "これ以降は、ファインチューニングしながら、各々のタスクに対して、欠けていることを検討し、少しでも改善することが求められています。  \n",
        "  \n",
        "この段階になると、形態素解析のトークンの程度や固有表現抽出の細かな設定を加味して、コスト・ベネフィットで進めてゆくものと思います。  "
      ],
      "metadata": {
        "id": "XqhkwnhUhxoI"
      }
    },
    {
      "cell_type": "markdown",
      "source": [
        "参考文献一覧\n",
        "参考文献一覧\n",
        "\n",
        "displaCy Named Entity Visualizer · Explosion\n",
        "https://explosion.ai/demos/displacy-ent\n",
        "\n",
        "Explosion.aiのdisplaCy\n",
        "https://explosion.ai/demos/displacy ## Explosion.aiのdisplaCy\n",
        "\n",
        "日本語Winograd Schema Challengeの構築と分析\n",
        "言語処理学会 第21回年次大会 発表論文集 (2015年3月)\n",
        "https://www.anlp.jp/proceedings/annual_meeting/2015/pdf_dir/E3-1.pdf\n",
        "\n",
        "displaCy Dependency Visualizer · Explosion\n",
        "https://explosion.ai/demos/displacy\n",
        "\n",
        "※Pythonによる自然言語処理ハンズオン1 資料 2022/02/25\n",
        "https://www.slideshare.net/otanet/python-nlp-handson20220225v5\n",
        "\n",
        "共参照解析のための事象間関係知識の文脈化\n",
        "http://naoya-i.github.io/resources/nlp2014-paper.pdf\n",
        "\n",
        "Language modeling\n",
        "https://huggingface.co/docs/transformers/tasks/language_modeling\n",
        "\n",
        "Text classification\n",
        "https://huggingface.co/docs/transformers/tasks/sequence_classification\n",
        "\n",
        "Pipelines for inference\n",
        "https://huggingface.co/docs/transformers/pipeline_tutorial"
      ],
      "metadata": {
        "id": "jIOfvF1AjdBn"
      }
    },
    {
      "cell_type": "code",
      "source": [
        ""
      ],
      "metadata": {
        "id": "UWaGZLpJjeBn"
      },
      "execution_count": null,
      "outputs": []
    }
  ]
}